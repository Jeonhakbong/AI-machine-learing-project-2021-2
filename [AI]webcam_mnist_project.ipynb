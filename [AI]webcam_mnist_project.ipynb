{
 "cells": [
  {
   "cell_type": "markdown",
   "metadata": {
    "id": "OJFQxzfJHQlK"
   },
   "source": [
    "# 개요\n",
    " * MNIST 데이터셋을 바탕으로 숫자를 인식하는 모델을 만들고, 해당 모델을 바탕으로 웹캠을 이용하여 생성한 손글씨 숫자 이미지들을 예측한다. "
   ]
  },
  {
   "cell_type": "markdown",
   "metadata": {
    "id": "ehhHjYnSi4tj"
   },
   "source": [
    "# 1. mnist"
   ]
  },
  {
   "cell_type": "markdown",
   "metadata": {
    "id": "x80b9SbpQ9Jc"
   },
   "source": [
    "* 필요한 라이브러리 먼저 선언."
   ]
  },
  {
   "cell_type": "code",
   "execution_count": 13,
   "metadata": {
    "executionInfo": {
     "elapsed": 243,
     "status": "ok",
     "timestamp": 1638454488675,
     "user": {
      "displayName": "전학봉",
      "photoUrl": "https://lh3.googleusercontent.com/a/default-user=s64",
      "userId": "00527261653612937476"
     },
     "user_tz": -540
    },
    "id": "VqIEjf72VN5U"
   },
   "outputs": [],
   "source": [
    "#!pip install keras==2.6.0"
   ]
  },
  {
   "cell_type": "code",
   "execution_count": 1,
   "metadata": {
    "colab": {
     "base_uri": "https://localhost:8080/",
     "height": 35
    },
    "executionInfo": {
     "elapsed": 4,
     "status": "ok",
     "timestamp": 1638454489052,
     "user": {
      "displayName": "전학봉",
      "photoUrl": "https://lh3.googleusercontent.com/a/default-user=s64",
      "userId": "00527261653612937476"
     },
     "user_tz": -540
    },
    "id": "ChY1GBwRiwqn",
    "outputId": "81f116a9-4b5c-4259-90de-d13207b775c2"
   },
   "outputs": [
    {
     "data": {
      "text/plain": [
       "'2.6.0'"
      ]
     },
     "execution_count": 1,
     "metadata": {},
     "output_type": "execute_result"
    }
   ],
   "source": [
    "import keras\n",
    "keras.__version__"
   ]
  },
  {
   "cell_type": "code",
   "execution_count": 2,
   "metadata": {
    "executionInfo": {
     "elapsed": 4,
     "status": "ok",
     "timestamp": 1638454489053,
     "user": {
      "displayName": "전학봉",
      "photoUrl": "https://lh3.googleusercontent.com/a/default-user=s64",
      "userId": "00527261653612937476"
     },
     "user_tz": -540
    },
    "id": "g1QslQ2Yix2_"
   },
   "outputs": [],
   "source": [
    "from keras.datasets import mnist\n",
    "from tensorflow.keras.utils import to_categorical\n",
    "import numpy as np\n",
    "import os\n",
    "import matplotlib.pyplot as plt"
   ]
  },
  {
   "cell_type": "markdown",
   "metadata": {
    "id": "2B6hueqgRCGa"
   },
   "source": [
    "* mnist 데이터를 불러온 후, 데이터를 분할."
   ]
  },
  {
   "cell_type": "code",
   "execution_count": 3,
   "metadata": {
    "executionInfo": {
     "elapsed": 257,
     "status": "ok",
     "timestamp": 1638454489306,
     "user": {
      "displayName": "전학봉",
      "photoUrl": "https://lh3.googleusercontent.com/a/default-user=s64",
      "userId": "00527261653612937476"
     },
     "user_tz": -540
    },
    "id": "FMugv7Jjix5P"
   },
   "outputs": [],
   "source": [
    "(train_images, train_labels), (test_images, test_labels) = mnist.load_data()"
   ]
  },
  {
   "cell_type": "markdown",
   "metadata": {
    "id": "AS6K_gXERMLK"
   },
   "source": [
    "* 각 데이터를 살펴본다."
   ]
  },
  {
   "cell_type": "code",
   "execution_count": 4,
   "metadata": {
    "colab": {
     "base_uri": "https://localhost:8080/"
    },
    "executionInfo": {
     "elapsed": 17,
     "status": "ok",
     "timestamp": 1638454489307,
     "user": {
      "displayName": "전학봉",
      "photoUrl": "https://lh3.googleusercontent.com/a/default-user=s64",
      "userId": "00527261653612937476"
     },
     "user_tz": -540
    },
    "id": "fPKolwbJix7O",
    "outputId": "59e6f3ea-cba5-4a4d-cce4-b7bd28a03825"
   },
   "outputs": [
    {
     "name": "stdout",
     "output_type": "stream",
     "text": [
      "(60000, 28, 28)\n",
      "(10000, 28, 28)\n"
     ]
    }
   ],
   "source": [
    "print(train_images.shape)\n",
    "print(test_images.shape)"
   ]
  },
  {
   "cell_type": "code",
   "execution_count": 5,
   "metadata": {
    "colab": {
     "base_uri": "https://localhost:8080/"
    },
    "executionInfo": {
     "elapsed": 11,
     "status": "ok",
     "timestamp": 1638454489308,
     "user": {
      "displayName": "전학봉",
      "photoUrl": "https://lh3.googleusercontent.com/a/default-user=s64",
      "userId": "00527261653612937476"
     },
     "user_tz": -540
    },
    "id": "EMAYaqIfRVQr",
    "outputId": "21b30b97-1e25-4f59-c6e9-2edb2f4eb496"
   },
   "outputs": [
    {
     "name": "stdout",
     "output_type": "stream",
     "text": [
      "(60000,)\n",
      "(10000,)\n"
     ]
    }
   ],
   "source": [
    "print(train_labels.shape)\n",
    "print(test_labels.shape)"
   ]
  },
  {
   "cell_type": "code",
   "execution_count": 7,
   "metadata": {},
   "outputs": [
    {
     "data": {
      "text/plain": [
       "array([5, 0, 4, ..., 5, 6, 8], dtype=uint8)"
      ]
     },
     "execution_count": 7,
     "metadata": {},
     "output_type": "execute_result"
    }
   ],
   "source": [
    "train_labels"
   ]
  },
  {
   "cell_type": "code",
   "execution_count": 19,
   "metadata": {
    "colab": {
     "base_uri": "https://localhost:8080/",
     "height": 265
    },
    "executionInfo": {
     "elapsed": 406,
     "status": "ok",
     "timestamp": 1638454489708,
     "user": {
      "displayName": "전학봉",
      "photoUrl": "https://lh3.googleusercontent.com/a/default-user=s64",
      "userId": "00527261653612937476"
     },
     "user_tz": -540
    },
    "id": "ldRgxudad89R",
    "outputId": "c7485183-3e41-4533-89cf-3e75e75b5f03"
   },
   "outputs": [
    {
     "data": {
      "image/png": "[encoded data removed]",
      "text/plain": [
       "<Figure size 432x288 with 1 Axes>"
      ]
     },
     "metadata": {
      "needs_background": "light"
     },
     "output_type": "display_data"
    }
   ],
   "source": [
    "plt.imshow(train_images[5])\n",
    "plt.show()"
   ]
  },
  {
   "cell_type": "markdown",
   "metadata": {
    "id": "1mp-QmexRdR9"
   },
   "source": [
    "* 데이터 전처리 실시."
   ]
  },
  {
   "cell_type": "code",
   "execution_count": 20,
   "metadata": {
    "executionInfo": {
     "elapsed": 4,
     "status": "ok",
     "timestamp": 1638454489709,
     "user": {
      "displayName": "전학봉",
      "photoUrl": "https://lh3.googleusercontent.com/a/default-user=s64",
      "userId": "00527261653612937476"
     },
     "user_tz": -540
    },
    "id": "gfIvieoeix_f"
   },
   "outputs": [],
   "source": [
    "train_images = train_images.reshape((60000, 28, 28, 1)) \n",
    "train_images = train_images.astype('float32') / 255 #normalization\n",
    "\n",
    "test_images = test_images.reshape((10000, 28, 28, 1))\n",
    "test_images = test_images.astype('float32') / 255\n",
    "    \n",
    "train_labels = to_categorical(train_labels, 10)\n",
    "test_labels = to_categorical(test_labels, 10)"
   ]
  },
  {
   "cell_type": "markdown",
   "metadata": {
    "id": "puzHgi_-jH4H"
   },
   "source": [
    "## 2. create model"
   ]
  },
  {
   "cell_type": "markdown",
   "metadata": {
    "id": "E20QMsLPRg_w"
   },
   "source": [
    "* 모델 생성을 위한 라이브러리 선언."
   ]
  },
  {
   "cell_type": "code",
   "execution_count": 21,
   "metadata": {
    "executionInfo": {
     "elapsed": 3,
     "status": "ok",
     "timestamp": 1638454489709,
     "user": {
      "displayName": "전학봉",
      "photoUrl": "https://lh3.googleusercontent.com/a/default-user=s64",
      "userId": "00527261653612937476"
     },
     "user_tz": -540
    },
    "id": "iZhrs6Q2iyBt"
   },
   "outputs": [],
   "source": [
    "from tensorflow.keras import layers\n",
    "from tensorflow.keras import models\n",
    "from tensorflow.keras.models import Sequential\n",
    "from tensorflow.keras.layers import Input, Dense"
   ]
  },
  {
   "cell_type": "markdown",
   "metadata": {
    "id": "WWDr8G9XHMPJ"
   },
   "source": [
    "* 모델 생성"
   ]
  },
  {
   "cell_type": "code",
   "execution_count": 22,
   "metadata": {
    "executionInfo": {
     "elapsed": 614,
     "status": "ok",
     "timestamp": 1638454490320,
     "user": {
      "displayName": "전학봉",
      "photoUrl": "https://lh3.googleusercontent.com/a/default-user=s64",
      "userId": "00527261653612937476"
     },
     "user_tz": -540
    },
    "id": "GJMQcimQiyD8"
   },
   "outputs": [],
   "source": [
    "model = models.Sequential()\n",
    "model.add(layers.Conv2D(32, (3, 3), activation='relu', input_shape=(28, 28, 1)))\n",
    "model.add(layers.MaxPooling2D((2, 2)))\n",
    "model.add(layers.Conv2D(64, (3, 3), activation='relu'))\n",
    "model.add(layers.MaxPooling2D((2, 2)))\n",
    "model.add(layers.Conv2D(64, (3, 3), activation='relu'))\n",
    "model.add(layers.Flatten())\n",
    "model.add(layers.Dense(64, activation='relu'))\n",
    "model.add(layers.Dense(10, activation='softmax'))"
   ]
  },
  {
   "cell_type": "code",
   "execution_count": 23,
   "metadata": {
    "colab": {
     "base_uri": "https://localhost:8080/"
    },
    "executionInfo": {
     "elapsed": 3,
     "status": "ok",
     "timestamp": 1638454490320,
     "user": {
      "displayName": "전학봉",
      "photoUrl": "https://lh3.googleusercontent.com/a/default-user=s64",
      "userId": "00527261653612937476"
     },
     "user_tz": -540
    },
    "id": "idGn-9eziyF5",
    "outputId": "202ea91a-1be3-4acf-ec9a-5b6dc6cd9ce9"
   },
   "outputs": [
    {
     "name": "stdout",
     "output_type": "stream",
     "text": [
      "Model: \"sequential\"\n",
      "_________________________________________________________________\n",
      " Layer (type)                Output Shape              Param #   \n",
      "=================================================================\n",
      " conv2d (Conv2D)             (None, 26, 26, 32)        320       \n",
      "                                                                 \n",
      " max_pooling2d (MaxPooling2D  (None, 13, 13, 32)       0         \n",
      " )                                                               \n",
      "                                                                 \n",
      " conv2d_1 (Conv2D)           (None, 11, 11, 64)        18496     \n",
      "                                                                 \n",
      " max_pooling2d_1 (MaxPooling  (None, 5, 5, 64)         0         \n",
      " 2D)                                                             \n",
      "                                                                 \n",
      " conv2d_2 (Conv2D)           (None, 3, 3, 64)          36928     \n",
      "                                                                 \n",
      " flatten (Flatten)           (None, 576)               0         \n",
      "                                                                 \n",
      " dense (Dense)               (None, 64)                36928     \n",
      "                                                                 \n",
      " dense_1 (Dense)             (None, 10)                650       \n",
      "                                                                 \n",
      "=================================================================\n",
      "Total params: 93,322\n",
      "Trainable params: 93,322\n",
      "Non-trainable params: 0\n",
      "_________________________________________________________________\n"
     ]
    }
   ],
   "source": [
    "model.summary()"
   ]
  },
  {
   "cell_type": "markdown",
   "metadata": {
    "id": "EhCaCUC0QRKa"
   },
   "source": [
    "* 모델 다이어그램"
   ]
  },
  {
   "cell_type": "code",
   "execution_count": 24,
   "metadata": {
    "executionInfo": {
     "elapsed": 528,
     "status": "ok",
     "timestamp": 1638454490847,
     "user": {
      "displayName": "전학봉",
      "photoUrl": "https://lh3.googleusercontent.com/a/default-user=s64",
      "userId": "00527261653612937476"
     },
     "user_tz": -540
    },
    "id": "XmWcCX7OPsTF"
   },
   "outputs": [],
   "source": [
    "from tensorflow.keras.utils import plot_model"
   ]
  },
  {
   "cell_type": "code",
   "execution_count": 25,
   "metadata": {
    "colab": {
     "base_uri": "https://localhost:8080/",
     "height": 976
    },
    "executionInfo": {
     "elapsed": 5,
     "status": "ok",
     "timestamp": 1638454490848,
     "user": {
      "displayName": "전학봉",
      "photoUrl": "https://lh3.googleusercontent.com/a/default-user=s64",
      "userId": "00527261653612937476"
     },
     "user_tz": -540
    },
    "id": "maDLOKmBN3Wc",
    "outputId": "a79eff3b-19c7-4720-c8f4-6fe13a53558e"
   },
   "outputs": [
    {
     "data": {
      "image/jpeg": "[encoded data removed]",
      "text/plain": [
       "<IPython.core.display.Image object>"
      ]
     },
     "execution_count": 25,
     "metadata": {},
     "output_type": "execute_result"
    }
   ],
   "source": [
    "plot_model(model, to_file='model.jpg', show_shapes=True)"
   ]
  },
  {
   "cell_type": "markdown",
   "metadata": {
    "id": "a9shFUFgE6L-"
   },
   "source": [
    "* 모델 학습"
   ]
  },
  {
   "cell_type": "code",
   "execution_count": 26,
   "metadata": {
    "colab": {
     "base_uri": "https://localhost:8080/"
    },
    "executionInfo": {
     "elapsed": 430787,
     "status": "ok",
     "timestamp": 1638454921632,
     "user": {
      "displayName": "전학봉",
      "photoUrl": "https://lh3.googleusercontent.com/a/default-user=s64",
      "userId": "00527261653612937476"
     },
     "user_tz": -540
    },
    "id": "-dV_SsM0jQxT",
    "outputId": "de0d6e2e-5a55-4fa8-dbf5-6c1666291bcb"
   },
   "outputs": [
    {
     "name": "stdout",
     "output_type": "stream",
     "text": [
      "Epoch 1/50\n",
      "938/938 [==============================] - 11s 9ms/step - loss: 0.1727 - accuracy: 0.9446\n",
      "Epoch 2/50\n",
      "938/938 [==============================] - 8s 9ms/step - loss: 0.0465 - accuracy: 0.9859\n",
      "Epoch 3/50\n",
      "938/938 [==============================] - 8s 9ms/step - loss: 0.0318 - accuracy: 0.9900\n",
      "Epoch 4/50\n",
      "938/938 [==============================] - 8s 9ms/step - loss: 0.0251 - accuracy: 0.9927\n",
      "Epoch 5/50\n",
      "938/938 [==============================] - 8s 9ms/step - loss: 0.0196 - accuracy: 0.9940\n",
      "Epoch 6/50\n",
      "938/938 [==============================] - 9s 9ms/step - loss: 0.0154 - accuracy: 0.9956\n",
      "Epoch 7/50\n",
      "938/938 [==============================] - 9s 9ms/step - loss: 0.0132 - accuracy: 0.9960\n",
      "Epoch 8/50\n",
      "938/938 [==============================] - 9s 9ms/step - loss: 0.0106 - accuracy: 0.9968\n",
      "Epoch 9/50\n",
      "938/938 [==============================] - 8s 9ms/step - loss: 0.0094 - accuracy: 0.9971\n",
      "Epoch 10/50\n",
      "938/938 [==============================] - 9s 9ms/step - loss: 0.0084 - accuracy: 0.9976\n",
      "Epoch 11/50\n",
      "938/938 [==============================] - 9s 9ms/step - loss: 0.0065 - accuracy: 0.9983\n",
      "Epoch 12/50\n",
      "938/938 [==============================] - 9s 9ms/step - loss: 0.0055 - accuracy: 0.9982\n",
      "Epoch 13/50\n",
      "938/938 [==============================] - 9s 9ms/step - loss: 0.0063 - accuracy: 0.9984\n",
      "Epoch 14/50\n",
      "938/938 [==============================] - 8s 9ms/step - loss: 0.0051 - accuracy: 0.9985\n",
      "Epoch 15/50\n",
      "938/938 [==============================] - 9s 9ms/step - loss: 0.0050 - accuracy: 0.9986\n",
      "Epoch 16/50\n",
      "938/938 [==============================] - 9s 9ms/step - loss: 0.0043 - accuracy: 0.9988\n",
      "Epoch 17/50\n",
      "938/938 [==============================] - 9s 9ms/step - loss: 0.0039 - accuracy: 0.9989\n",
      "Epoch 18/50\n",
      "938/938 [==============================] - 8s 9ms/step - loss: 0.0033 - accuracy: 0.9991\n",
      "Epoch 19/50\n",
      "938/938 [==============================] - 8s 9ms/step - loss: 0.0046 - accuracy: 0.9988\n",
      "Epoch 20/50\n",
      "938/938 [==============================] - 9s 9ms/step - loss: 0.0030 - accuracy: 0.9990\n",
      "Epoch 21/50\n",
      "938/938 [==============================] - 9s 9ms/step - loss: 0.0044 - accuracy: 0.9990\n",
      "Epoch 22/50\n",
      "938/938 [==============================] - 9s 9ms/step - loss: 0.0022 - accuracy: 0.9994\n",
      "Epoch 23/50\n",
      "938/938 [==============================] - 9s 9ms/step - loss: 0.0026 - accuracy: 0.9992\n",
      "Epoch 24/50\n",
      "938/938 [==============================] - 9s 9ms/step - loss: 0.0022 - accuracy: 0.9995\n",
      "Epoch 25/50\n",
      "938/938 [==============================] - 9s 9ms/step - loss: 0.0020 - accuracy: 0.9995\n",
      "Epoch 26/50\n",
      "938/938 [==============================] - 9s 9ms/step - loss: 0.0026 - accuracy: 0.9994\n",
      "Epoch 27/50\n",
      "938/938 [==============================] - 9s 9ms/step - loss: 0.0036 - accuracy: 0.9991\n",
      "Epoch 28/50\n",
      "938/938 [==============================] - 8s 9ms/step - loss: 0.0027 - accuracy: 0.9994\n",
      "Epoch 29/50\n",
      "938/938 [==============================] - 9s 9ms/step - loss: 0.0021 - accuracy: 0.9995\n",
      "Epoch 30/50\n",
      "938/938 [==============================] - 9s 9ms/step - loss: 0.0032 - accuracy: 0.9993\n",
      "Epoch 31/50\n",
      "938/938 [==============================] - 9s 9ms/step - loss: 0.0021 - accuracy: 0.9996\n",
      "Epoch 32/50\n",
      "938/938 [==============================] - 9s 9ms/step - loss: 0.0023 - accuracy: 0.9995\n",
      "Epoch 33/50\n",
      "938/938 [==============================] - 8s 9ms/step - loss: 0.0019 - accuracy: 0.9993\n",
      "Epoch 34/50\n",
      "938/938 [==============================] - 9s 9ms/step - loss: 0.0028 - accuracy: 0.9994\n",
      "Epoch 35/50\n",
      "938/938 [==============================] - 9s 9ms/step - loss: 0.0016 - accuracy: 0.9996\n",
      "Epoch 36/50\n",
      "938/938 [==============================] - 9s 9ms/step - loss: 0.0027 - accuracy: 0.9994\n",
      "Epoch 37/50\n",
      "938/938 [==============================] - 9s 9ms/step - loss: 0.0014 - accuracy: 0.9996\n",
      "Epoch 38/50\n",
      "938/938 [==============================] - 8s 9ms/step - loss: 0.0014 - accuracy: 0.9997\n",
      "Epoch 39/50\n",
      "938/938 [==============================] - 9s 9ms/step - loss: 0.0022 - accuracy: 0.9995\n",
      "Epoch 40/50\n",
      "938/938 [==============================] - 9s 9ms/step - loss: 0.0019 - accuracy: 0.9996\n",
      "Epoch 41/50\n",
      "938/938 [==============================] - 9s 9ms/step - loss: 0.0017 - accuracy: 0.9997\n",
      "Epoch 42/50\n",
      "938/938 [==============================] - 8s 9ms/step - loss: 0.0017 - accuracy: 0.9997\n",
      "Epoch 43/50\n",
      "938/938 [==============================] - 9s 9ms/step - loss: 0.0026 - accuracy: 0.9997\n",
      "Epoch 44/50\n",
      "938/938 [==============================] - 9s 9ms/step - loss: 0.0015 - accuracy: 0.9997\n",
      "Epoch 45/50\n",
      "938/938 [==============================] - 9s 9ms/step - loss: 0.0013 - accuracy: 0.9998\n",
      "Epoch 46/50\n",
      "938/938 [==============================] - 9s 9ms/step - loss: 0.0018 - accuracy: 0.9997\n",
      "Epoch 47/50\n",
      "938/938 [==============================] - 8s 9ms/step - loss: 0.0019 - accuracy: 0.9997\n",
      "Epoch 48/50\n",
      "938/938 [==============================] - 9s 9ms/step - loss: 0.0013 - accuracy: 0.9998\n",
      "Epoch 49/50\n",
      "938/938 [==============================] - 9s 9ms/step - loss: 0.0015 - accuracy: 0.9997\n",
      "Epoch 50/50\n",
      "938/938 [==============================] - 9s 9ms/step - loss: 0.0011 - accuracy: 0.9997\n"
     ]
    },
    {
     "data": {
      "text/plain": [
       "<keras.callbacks.History at 0x7fdbbd342b10>"
      ]
     },
     "execution_count": 26,
     "metadata": {},
     "output_type": "execute_result"
    }
   ],
   "source": [
    "model.compile(optimizer='rmsprop', \n",
    "               loss='categorical_crossentropy',\n",
    "               metrics=['accuracy'])\n",
    "model.fit(train_images, train_labels, epochs=50, batch_size=64)"
   ]
  },
  {
   "cell_type": "markdown",
   "metadata": {
    "id": "-UdCZr1PWlP4"
   },
   "source": [
    "* 모델 평가"
   ]
  },
  {
   "cell_type": "code",
   "execution_count": 27,
   "metadata": {
    "colab": {
     "base_uri": "https://localhost:8080/"
    },
    "executionInfo": {
     "elapsed": 3047,
     "status": "ok",
     "timestamp": 1638454924664,
     "user": {
      "displayName": "전학봉",
      "photoUrl": "https://lh3.googleusercontent.com/a/default-user=s64",
      "userId": "00527261653612937476"
     },
     "user_tz": -540
    },
    "id": "ELYIyuBGDc35",
    "outputId": "f11b4bc7-34a4-4d17-a2d0-030bdc90eaa1"
   },
   "outputs": [
    {
     "name": "stdout",
     "output_type": "stream",
     "text": [
      "313/313 [==============================] - 2s 5ms/step - loss: 0.1315 - accuracy: 0.9928\n"
     ]
    }
   ],
   "source": [
    "test_loss, test_acc = model.evaluate(test_images, test_labels)"
   ]
  },
  {
   "cell_type": "markdown",
   "metadata": {
    "id": "S_EvIlSAr7Op"
   },
   "source": [
    "## 3. webcam"
   ]
  },
  {
   "cell_type": "markdown",
   "metadata": {
    "id": "QDngNm1h5vOI"
   },
   "source": [
    "* 웹캠에서 사진을 인식하는 기능 구현"
   ]
  },
  {
   "cell_type": "code",
   "execution_count": 28,
   "metadata": {
    "executionInfo": {
     "elapsed": 5,
     "status": "ok",
     "timestamp": 1638454924665,
     "user": {
      "displayName": "전학봉",
      "photoUrl": "https://lh3.googleusercontent.com/a/default-user=s64",
      "userId": "00527261653612937476"
     },
     "user_tz": -540
    },
    "id": "0XTLFDMjjQ1m"
   },
   "outputs": [],
   "source": [
    "from IPython.display import display, Javascript\n",
    "from google.colab.output import eval_js\n",
    "from base64 import b64decode\n",
    "\n",
    "def take_photo(filename='photo.jpg', quality=0.8):\n",
    "  js = Javascript('''\n",
    "    async function takePhoto(quality) {\n",
    "      const div = document.createElement('div');\n",
    "      const capture = document.createElement('button');\n",
    "      capture.textContent = 'Capture';\n",
    "      div.appendChild(capture);\n",
    "\n",
    "      const video = document.createElement('video');\n",
    "      video.style.display = 'block';\n",
    "      const stream = await navigator.mediaDevices.getUserMedia({video: true});\n",
    "\n",
    "      document.body.appendChild(div);\n",
    "      div.appendChild(video);\n",
    "      video.srcObject = stream;\n",
    "      await video.play();\n",
    "\n",
    "      // Resize the output to fit the video element.\n",
    "      google.colab.output.setIframeHeight(document.documentElement.scrollHeight, true);\n",
    "\n",
    "      // Wait for Capture to be clicked.\n",
    "      await new Promise((resolve) => capture.onclick = resolve);\n",
    "\n",
    "      const canvas = document.createElement('canvas');\n",
    "      canvas.width = video.videoWidth;\n",
    "      canvas.height = video.videoHeight;\n",
    "      canvas.getContext('2d').drawImage(video, 0, 0);\n",
    "      stream.getVideoTracks()[0].stop();\n",
    "      div.remove();\n",
    "      return canvas.toDataURL('image/jpeg', quality);\n",
    "    }\n",
    "    ''')\n",
    "  display(js)\n",
    "  data = eval_js('takePhoto({})'.format(quality))\n",
    "  binary = b64decode(data.split(',')[1])\n",
    "  with open(filename, 'wb') as f:\n",
    "    f.write(binary)\n",
    "  return filename"
   ]
  },
  {
   "cell_type": "code",
   "execution_count": 29,
   "metadata": {
    "executionInfo": {
     "elapsed": 5,
     "status": "ok",
     "timestamp": 1638454924666,
     "user": {
      "displayName": "전학봉",
      "photoUrl": "https://lh3.googleusercontent.com/a/default-user=s64",
      "userId": "00527261653612937476"
     },
     "user_tz": -540
    },
    "id": "hXpJJCNTjQ3s"
   },
   "outputs": [],
   "source": [
    "#from tensorflow.keras.applications.nasnet import NASNetLarge \n",
    "from tensorflow.keras.preprocessing import image\n",
    "from tensorflow.keras.applications.nasnet import preprocess_input, decode_predictions"
   ]
  },
  {
   "cell_type": "code",
   "execution_count": 30,
   "metadata": {
    "executionInfo": {
     "elapsed": 5,
     "status": "ok",
     "timestamp": 1638454924666,
     "user": {
      "displayName": "전학봉",
      "photoUrl": "https://lh3.googleusercontent.com/a/default-user=s64",
      "userId": "00527261653612937476"
     },
     "user_tz": -540
    },
    "id": "J_Cyi33Uqj7T"
   },
   "outputs": [],
   "source": [
    "import matplotlib.cm as cm\n",
    "import tensorflow as tf"
   ]
  },
  {
   "cell_type": "markdown",
   "metadata": {
    "id": "ZyQYAoS9EyTE"
   },
   "source": [
    "* 데이터 예측"
   ]
  },
  {
   "cell_type": "code",
   "execution_count": 402,
   "metadata": {
    "colab": {
     "base_uri": "https://localhost:8080/",
     "height": 584
    },
    "executionInfo": {
     "elapsed": 32636,
     "status": "ok",
     "timestamp": 1638458025178,
     "user": {
      "displayName": "전학봉",
      "photoUrl": "https://lh3.googleusercontent.com/a/default-user=s64",
      "userId": "00527261653612937476"
     },
     "user_tz": -540
    },
    "id": "MAzy--b4jQ52",
    "outputId": "9215ff93-fe21-4cbb-beab-99cf5e20f6ea"
   },
   "outputs": [
    {
     "data": {
      "application/javascript": [
       "\n",
       "    async function takePhoto(quality) {\n",
       "      const div = document.createElement('div');\n",
       "      const capture = document.createElement('button');\n",
       "      capture.textContent = 'Capture';\n",
       "      div.appendChild(capture);\n",
       "\n",
       "      const video = document.createElement('video');\n",
       "      video.style.display = 'block';\n",
       "      const stream = await navigator.mediaDevices.getUserMedia({video: true});\n",
       "\n",
       "      document.body.appendChild(div);\n",
       "      div.appendChild(video);\n",
       "      video.srcObject = stream;\n",
       "      await video.play();\n",
       "\n",
       "      // Resize the output to fit the video element.\n",
       "      google.colab.output.setIframeHeight(document.documentElement.scrollHeight, true);\n",
       "\n",
       "      // Wait for Capture to be clicked.\n",
       "      await new Promise((resolve) => capture.onclick = resolve);\n",
       "\n",
       "      const canvas = document.createElement('canvas');\n",
       "      canvas.width = video.videoWidth;\n",
       "      canvas.height = video.videoHeight;\n",
       "      canvas.getContext('2d').drawImage(video, 0, 0);\n",
       "      stream.getVideoTracks()[0].stop();\n",
       "      div.remove();\n",
       "      return canvas.toDataURL('image/jpeg', quality);\n",
       "    }\n",
       "    "
      ],
      "text/plain": [
       "<IPython.core.display.Javascript object>"
      ]
     },
     "metadata": {},
     "output_type": "display_data"
    },
    {
     "name": "stdout",
     "output_type": "stream",
     "text": [
      "Saved to photo.jpg\n"
     ]
    },
    {
     "data": {
      "image/jpeg": "[encoded data removed]",
      "text/plain": [
       "<IPython.core.display.Image object>"
      ]
     },
     "metadata": {},
     "output_type": "display_data"
    },
    {
     "name": "stdout",
     "output_type": "stream",
     "text": [
      "result : [[1.9171246e-11 4.0600759e-01 1.4145611e-01 1.7441580e-03 1.0006582e-02\n",
      "  2.4866955e-07 9.8949373e-12 4.4078517e-01 8.0849688e-08 9.3598516e-09]]\n",
      "Max : 0.44078516960144043\n",
      "Predict : 7\n"
     ]
    }
   ],
   "source": [
    "from IPython.display import Image\n",
    "import PIL.ImageOps \n",
    "try:\n",
    "  filename = take_photo()\n",
    "  print('Saved to {}'.format(filename))\n",
    "  \n",
    "  # Show the image which was just taken.\n",
    "  display(Image(filename))\n",
    "\n",
    "  img = image.load_img(filename, target_size=(28, 28))\n",
    "  img_gray = (img.convert('L'))\n",
    "  img_inverted = PIL.ImageOps.invert(img_gray)\n",
    "  img_array = image.img_to_array(img_inverted)\n",
    "  img_array = np.expand_dims(img_array, axis=0)\n",
    "  img_array = preprocess_input(img_array)\n",
    "\n",
    "\n",
    "  preds = model.predict(img_array)\n",
    "  print(f'result : {preds}')\n",
    "  print(f'Max : {max(preds[0])}')\n",
    "  print(f'Predict : {list(preds[0]).index(max(preds[0]))}')\n",
    "\n",
    "except Exception as err:\n",
    "  # Errors will be thrown if the user does not have a webcam or if they do not\n",
    "  # grant the page permission to access it.\n",
    "  print(str(err))"
   ]
  },
  {
   "cell_type": "code",
   "execution_count": 403,
   "metadata": {
    "colab": {
     "base_uri": "https://localhost:8080/",
     "height": 282
    },
    "executionInfo": {
     "elapsed": 571,
     "status": "ok",
     "timestamp": 1638458028168,
     "user": {
      "displayName": "전학봉",
      "photoUrl": "https://lh3.googleusercontent.com/a/default-user=s64",
      "userId": "00527261653612937476"
     },
     "user_tz": -540
    },
    "id": "9BoB3qjIH6h6",
    "outputId": "18259f85-6807-42ce-edec-a4117346d7a7"
   },
   "outputs": [
    {
     "data": {
      "text/plain": [
       "<matplotlib.image.AxesImage at 0x7fdb3b928350>"
      ]
     },
     "execution_count": 403,
     "metadata": {},
     "output_type": "execute_result"
    },
    {
     "data": {
      "image/png": "[encoded data removed]",
      "text/plain": [
       "<Figure size 432x288 with 1 Axes>"
      ]
     },
     "metadata": {
      "needs_background": "light"
     },
     "output_type": "display_data"
    }
   ],
   "source": [
    "plt.imshow(img_inverted)"
   ]
  },
  {
   "cell_type": "markdown",
   "metadata": {
    "id": "aojV51RNFJDL"
   },
   "source": [
    "# 4. Grad-CAM"
   ]
  },
  {
   "cell_type": "markdown",
   "metadata": {
    "id": "0m3OJCcPFQCP"
   },
   "source": [
    "* 출처 : https://keras.io/examples/vision/grad_cam/"
   ]
  },
  {
   "cell_type": "markdown",
   "metadata": {
    "id": "4C5nB5CqFNHb"
   },
   "source": [
    "* 히트맵 생성 함수\n"
   ]
  },
  {
   "cell_type": "code",
   "execution_count": 305,
   "metadata": {
    "executionInfo": {
     "elapsed": 220,
     "status": "ok",
     "timestamp": 1638457279644,
     "user": {
      "displayName": "전학봉",
      "photoUrl": "https://lh3.googleusercontent.com/a/default-user=s64",
      "userId": "00527261653612937476"
     },
     "user_tz": -540
    },
    "id": "vhmzueodqv9L"
   },
   "outputs": [],
   "source": [
    "def make_gradcam_heatmap(img_array, model, last_conv_layer_name, pred_index=None):\n",
    "    grad_model = tf.keras.models.Model(\n",
    "        [model.inputs], [model.get_layer(last_conv_layer_name).output, model.output]\n",
    "    )\n",
    "\n",
    "    with tf.GradientTape() as tape:\n",
    "        last_conv_layer_output, preds = grad_model(img_array)\n",
    "        if pred_index is None:\n",
    "            pred_index = tf.argmax(preds[0])\n",
    "        class_channel = preds[:, pred_index]\n",
    "\n",
    "    grads = tape.gradient(class_channel, last_conv_layer_output)\n",
    "\n",
    "    pooled_grads = tf.reduce_mean(grads, axis=(0, 1, 2))\n",
    "\n",
    "    last_conv_layer_output = last_conv_layer_output[0]\n",
    "    heatmap = last_conv_layer_output @ pooled_grads[..., tf.newaxis]\n",
    "    heatmap = tf.squeeze(heatmap)\n",
    "\n",
    "    heatmap = tf.maximum(heatmap, 0) / tf.math.reduce_max(heatmap)\n",
    "    return heatmap.numpy()"
   ]
  },
  {
   "cell_type": "code",
   "execution_count": 404,
   "metadata": {
    "executionInfo": {
     "elapsed": 261,
     "status": "ok",
     "timestamp": 1638458030714,
     "user": {
      "displayName": "전학봉",
      "photoUrl": "https://lh3.googleusercontent.com/a/default-user=s64",
      "userId": "00527261653612937476"
     },
     "user_tz": -540
    },
    "id": "4LwjZZF1NlLD"
   },
   "outputs": [],
   "source": [
    "last_conv_layer_name = 'conv2d_2'"
   ]
  },
  {
   "cell_type": "code",
   "execution_count": 406,
   "metadata": {
    "executionInfo": {
     "elapsed": 218,
     "status": "ok",
     "timestamp": 1638458032817,
     "user": {
      "displayName": "전학봉",
      "photoUrl": "https://lh3.googleusercontent.com/a/default-user=s64",
      "userId": "00527261653612937476"
     },
     "user_tz": -540
    },
    "id": "RSBZ51awqwRg"
   },
   "outputs": [],
   "source": [
    "heatmap = make_gradcam_heatmap(img_array, model, last_conv_layer_name, list(preds[0]).index(max(preds[0])))"
   ]
  },
  {
   "cell_type": "code",
   "execution_count": 407,
   "metadata": {
    "colab": {
     "base_uri": "https://localhost:8080/",
     "height": 275
    },
    "executionInfo": {
     "elapsed": 2,
     "status": "ok",
     "timestamp": 1638458033172,
     "user": {
      "displayName": "전학봉",
      "photoUrl": "https://lh3.googleusercontent.com/a/default-user=s64",
      "userId": "00527261653612937476"
     },
     "user_tz": -540
    },
    "id": "NzdI-Ok_qwTl",
    "outputId": "c5e2dd50-a577-4b2e-b14d-b05907590a3c"
   },
   "outputs": [
    {
     "data": {
      "image/png": "[encoded data removed]",
      "text/plain": [
       "<Figure size 288x288 with 1 Axes>"
      ]
     },
     "metadata": {
      "needs_background": "light"
     },
     "output_type": "display_data"
    }
   ],
   "source": [
    "plt.matshow(heatmap)\n",
    "plt.show()"
   ]
  },
  {
   "cell_type": "markdown",
   "metadata": {
    "id": "eBHDz-oLFUzn"
   },
   "source": [
    "* 원본 사진과 히트맵을 겹친 이미지"
   ]
  },
  {
   "cell_type": "code",
   "execution_count": 63,
   "metadata": {
    "executionInfo": {
     "elapsed": 2,
     "status": "ok",
     "timestamp": 1638455199588,
     "user": {
      "displayName": "전학봉",
      "photoUrl": "https://lh3.googleusercontent.com/a/default-user=s64",
      "userId": "00527261653612937476"
     },
     "user_tz": -540
    },
    "id": "2BTUF_sgyaYy"
   },
   "outputs": [],
   "source": [
    "#!pip install opencv-python"
   ]
  },
  {
   "cell_type": "code",
   "execution_count": 408,
   "metadata": {
    "colab": {
     "base_uri": "https://localhost:8080/"
    },
    "executionInfo": {
     "elapsed": 246,
     "status": "ok",
     "timestamp": 1638458035781,
     "user": {
      "displayName": "전학봉",
      "photoUrl": "https://lh3.googleusercontent.com/a/default-user=s64",
      "userId": "00527261653612937476"
     },
     "user_tz": -540
    },
    "id": "-8yaFiPsyaWd",
    "outputId": "34b10425-7acd-40f6-8d81-f212e09de3bd"
   },
   "outputs": [
    {
     "data": {
      "text/plain": [
       "True"
      ]
     },
     "execution_count": 408,
     "metadata": {},
     "output_type": "execute_result"
    }
   ],
   "source": [
    "import cv2\n",
    "# cv2 모듈을 사용해 원본 이미지를 로드\n",
    "img = cv2.imread(filename)\n",
    "\n",
    "# heatmap을 원본 이미지 크기에 맞게 변경\n",
    "heatmap = cv2.resize(heatmap, (img.shape[1], img.shape[0]))\n",
    "\n",
    "# heatmap을 RGB 포맷으로 변환\n",
    "heatmap = np.uint8(255 * heatmap)\n",
    "\n",
    "# 히트맵으로 변환\n",
    "heatmap = cv2.applyColorMap(heatmap, cv2.COLORMAP_JET)\n",
    "\n",
    "# 0.4는 히트맵의 강도\n",
    "superimposed_img = heatmap * 0.4 + img\n",
    "\n",
    "# 디스크에 이미지를 저장\n",
    "cv2.imwrite('./mnist_cam.jpg', superimposed_img)"
   ]
  },
  {
   "cell_type": "code",
   "execution_count": 409,
   "metadata": {
    "colab": {
     "base_uri": "https://localhost:8080/",
     "height": 497
    },
    "executionInfo": {
     "elapsed": 3,
     "status": "ok",
     "timestamp": 1638458036843,
     "user": {
      "displayName": "전학봉",
      "photoUrl": "https://lh3.googleusercontent.com/a/default-user=s64",
      "userId": "00527261653612937476"
     },
     "user_tz": -540
    },
    "id": "V6yM9v29yaec",
    "outputId": "91d9ff20-af97-4577-dc9b-d37166f63493"
   },
   "outputs": [
    {
     "data": {
      "image/jpeg": "[encoded data removed]",
      "text/plain": [
       "<IPython.core.display.Image object>"
      ]
     },
     "execution_count": 409,
     "metadata": {},
     "output_type": "execute_result"
    }
   ],
   "source": [
    "from IPython.display import Image\n",
    "Image(filename='./mnist_cam.jpg') "
   ]
  }
 ],
 "metadata": {
  "accelerator": "GPU",
  "colab": {
   "authorship_tag": "ABX9TyMw0ehW7v4gi6iSpzSObYn7",
   "collapsed_sections": [],
   "name": "project_60162349_전학봉.ipynb",
   "provenance": []
  },
  "kernelspec": {
   "display_name": "Python 3",
   "language": "python",
   "name": "python3"
  },
  "language_info": {
   "codemirror_mode": {
    "name": "ipython",
    "version": 3
   },
   "file_extension": ".py",
   "mimetype": "text/x-python",
   "name": "python",
   "nbconvert_exporter": "python",
   "pygments_lexer": "ipython3",
   "version": "3.8.5"
  }
 },
 "nbformat": 4,
 "nbformat_minor": 1
}
